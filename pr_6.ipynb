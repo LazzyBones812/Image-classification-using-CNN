{
 "cells": [
  {
   "cell_type": "code",
   "execution_count": 11,
   "metadata": {},
   "outputs": [],
   "source": [
    "import matplotlib.pyplot as plt\n",
    "import numpy as np\n",
    "import tensorflow as tf\n",
    "\n",
    "from tensorflow import keras\n",
    "\n",
    "import input_and_processing as iap\n",
    "\n",
    "from PIL import Image"
   ]
  },
  {
   "cell_type": "code",
   "execution_count": 12,
   "metadata": {},
   "outputs": [],
   "source": [
    "(train_img, train_labels), (test_img, test_labels), t_img, result_test_df = iap.my_input_and_processing()"
   ]
  },
  {
   "cell_type": "code",
   "execution_count": 13,
   "metadata": {},
   "outputs": [],
   "source": [
    "def visualize(original, augmented):\n",
    "  fig = plt.figure()\n",
    "  plt.subplot(1,2,1)\n",
    "  plt.title('Original image')\n",
    "  plt.imshow(original)\n",
    "\n",
    "  plt.subplot(1,2,2)\n",
    "  plt.title('Augmented image')\n",
    "  plt.imshow(augmented)"
   ]
  },
  {
   "cell_type": "code",
   "execution_count": 14,
   "metadata": {},
   "outputs": [
    {
     "data": {
      "image/png": "[encoded data removed]",
      "text/plain": [
       "<Figure size 640x480 with 2 Axes>"
      ]
     },
     "metadata": {},
     "output_type": "display_data"
    }
   ],
   "source": [
    "im = Image.fromarray((train_img[0] * 255).astype(np.uint8)).convert('RGB')\n",
    "\n",
    "flipped_1 = tf.image.flip_left_right(im)\n",
    "flipped_2 = tf.image.rgb_to_grayscale(im)\n",
    "flipped_3 = tf.image.adjust_saturation(im, 3)\n",
    "flipped_4 = tf.image.adjust_brightness(im, 0.4)\n",
    "flipped_5 = tf.image.central_crop(im, central_fraction=0.5)\n",
    "flipped_6 = tf.image.rot90(im)\n",
    "visualize(im, flipped_4)"
   ]
  },
  {
   "cell_type": "code",
   "execution_count": 15,
   "metadata": {},
   "outputs": [
    {
     "data": {
      "text/plain": [
       "(800, 32, 32, 3)"
      ]
     },
     "execution_count": 15,
     "metadata": {},
     "output_type": "execute_result"
    }
   ],
   "source": [
    "flip_1 = np.empty(shape=(train_img.shape[0], 32, 32, 3))\n",
    "flip_2 = np.empty(shape=(train_img.shape[0], 32, 32, 3))\n",
    "flip_3 = np.empty(shape=(train_img.shape[0], 32, 32, 3))\n",
    "flip_4 = np.empty(shape=(train_img.shape[0], 32, 32, 3))\n",
    "flip_5 = np.empty(shape=(train_img.shape[0], 16, 16, 3))\n",
    "flip_6 = np.empty(shape=(train_img.shape[0], 32, 32, 3))\n",
    "for i in range(train_img.shape[0]):\n",
    "    mm = tf.image.flip_left_right(Image.fromarray((train_img[i] * 255).astype(np.uint8)).convert('RGB'))\n",
    "    flip_1[i] = mm.numpy() / 255.0\n",
    "\n",
    "    mm = tf.image.rgb_to_grayscale(Image.fromarray((train_img[i] * 255).astype(np.uint8)).convert('RGB'))\n",
    "    flip_2[i] = mm.numpy() / 255.0\n",
    "\n",
    "    mm = tf.image.adjust_saturation(Image.fromarray((train_img[i] * 255).astype(np.uint8)).convert('RGB'), 3)\n",
    "    flip_3[i] = mm.numpy() / 255.0\n",
    "\n",
    "    mm = tf.image.adjust_brightness(Image.fromarray((train_img[i] * 255).astype(np.uint8)).convert('RGB'), 0.4)\n",
    "    flip_4[i] = mm.numpy() / 255.0\n",
    "\n",
    "    mm = tf.image.central_crop(Image.fromarray((train_img[i] * 255).astype(np.uint8)).convert('RGB'), central_fraction=0.5)\n",
    "    flip_5[i] = mm.numpy() / 255.0\n",
    "\n",
    "    mm = tf.image.rot90(Image.fromarray((train_img[i] * 255).astype(np.uint8)).convert('RGB'))\n",
    "    flip_6[i] = mm.numpy() / 255.0\n",
    "\n",
    "flip_1.shape"
   ]
  },
  {
   "cell_type": "code",
   "execution_count": 16,
   "metadata": {},
   "outputs": [],
   "source": [
    "train_img_np = np.concatenate((flip_1, flip_2, flip_3, flip_4, flip_6), axis=0)\n",
    "\n",
    "train_label_np = np.tile(train_labels, (1, 5))\n",
    "train_label_np = train_label_np.reshape(-1)"
   ]
  },
  {
   "cell_type": "code",
   "execution_count": 17,
   "metadata": {},
   "outputs": [
    {
     "data": {
      "text/plain": [
       "(212, 32, 32, 3)"
      ]
     },
     "execution_count": 17,
     "metadata": {},
     "output_type": "execute_result"
    }
   ],
   "source": [
    "flip_1 = np.empty(shape=(test_img.shape[0], 32, 32, 3))\n",
    "flip_2 = np.empty(shape=(test_img.shape[0], 32, 32, 3))\n",
    "flip_3 = np.empty(shape=(test_img.shape[0], 32, 32, 3))\n",
    "flip_4 = np.empty(shape=(test_img.shape[0], 32, 32, 3))\n",
    "flip_5 = np.empty(shape=(test_img.shape[0], 16, 16, 3))\n",
    "flip_6 = np.empty(shape=(test_img.shape[0], 32, 32, 3))\n",
    "for i in range(test_img.shape[0]):\n",
    "    mm = tf.image.flip_left_right(Image.fromarray((test_img[i] * 255).astype(np.uint8)).convert('RGB'))\n",
    "    flip_1[i] = mm.numpy() / 255.0\n",
    "\n",
    "    mm = tf.image.rgb_to_grayscale(Image.fromarray((test_img[i] * 255).astype(np.uint8)).convert('RGB'))\n",
    "    flip_2[i] = mm.numpy() / 255.0\n",
    "\n",
    "    mm = tf.image.adjust_saturation(Image.fromarray((test_img[i] * 255).astype(np.uint8)).convert('RGB'), 3)\n",
    "    flip_3[i] = mm.numpy() / 255.0\n",
    "\n",
    "    mm = tf.image.adjust_brightness(Image.fromarray((test_img[i] * 255).astype(np.uint8)).convert('RGB'), 0.4)\n",
    "    flip_4[i] = mm.numpy() / 255.0\n",
    "\n",
    "    mm = tf.image.central_crop(Image.fromarray((test_img[i] * 255).astype(np.uint8)).convert('RGB'), central_fraction=0.5)\n",
    "    flip_5[i] = mm.numpy() / 255.0\n",
    "\n",
    "    mm = tf.image.rot90(Image.fromarray((test_img[i] * 255).astype(np.uint8)).convert('RGB'))\n",
    "    flip_6[i] = mm.numpy() / 255.0\n",
    "\n",
    "flip_1.shape"
   ]
  },
  {
   "cell_type": "code",
   "execution_count": 18,
   "metadata": {},
   "outputs": [],
   "source": [
    "test_img_np = np.concatenate((flip_1, flip_2, flip_3, flip_4, flip_6), axis=0)\n",
    "\n",
    "test_label_np = np.tile(test_labels, (1, 5))\n",
    "test_label_np = test_label_np.reshape(-1)"
   ]
  },
  {
   "cell_type": "code",
   "execution_count": 19,
   "metadata": {},
   "outputs": [],
   "source": [
    "ttt_img = t_img[:, :, :, :3]"
   ]
  },
  {
   "cell_type": "markdown",
   "metadata": {},
   "source": [
    "Обучение CNN"
   ]
  },
  {
   "cell_type": "code",
   "execution_count": 77,
   "metadata": {},
   "outputs": [
    {
     "name": "stdout",
     "output_type": "stream",
     "text": [
      "Epoch 1/15\n",
      "\u001b[1m125/125\u001b[0m \u001b[32m━━━━━━━━━━━━━━━━━━━━\u001b[0m\u001b[37m\u001b[0m \u001b[1m16s\u001b[0m 93ms/step - loss: 8.9640 - sparse_categorical_crossentropy: 0.6635 - val_loss: 0.7071 - val_sparse_categorical_crossentropy: 0.6202\n",
      "Epoch 2/15\n",
      "\u001b[1m125/125\u001b[0m \u001b[32m━━━━━━━━━━━━━━━━━━━━\u001b[0m\u001b[37m\u001b[0m \u001b[1m11s\u001b[0m 90ms/step - loss: 0.7163 - sparse_categorical_crossentropy: 0.6420 - val_loss: 0.7261 - val_sparse_categorical_crossentropy: 0.6263\n",
      "Epoch 3/15\n",
      "\u001b[1m125/125\u001b[0m \u001b[32m━━━━━━━━━━━━━━━━━━━━\u001b[0m\u001b[37m\u001b[0m \u001b[1m21s\u001b[0m 94ms/step - loss: 0.7261 - sparse_categorical_crossentropy: 0.6483 - val_loss: 0.6859 - val_sparse_categorical_crossentropy: 0.6246\n",
      "Epoch 4/15\n",
      "\u001b[1m125/125\u001b[0m \u001b[32m━━━━━━━━━━━━━━━━━━━━\u001b[0m\u001b[37m\u001b[0m \u001b[1m11s\u001b[0m 90ms/step - loss: 0.7057 - sparse_categorical_crossentropy: 0.6437 - val_loss: 0.6857 - val_sparse_categorical_crossentropy: 0.6250\n",
      "Epoch 5/15\n",
      "\u001b[1m125/125\u001b[0m \u001b[32m━━━━━━━━━━━━━━━━━━━━\u001b[0m\u001b[37m\u001b[0m \u001b[1m12s\u001b[0m 92ms/step - loss: 0.7129 - sparse_categorical_crossentropy: 0.6512 - val_loss: 0.6856 - val_sparse_categorical_crossentropy: 0.6247\n",
      "Epoch 6/15\n",
      "\u001b[1m125/125\u001b[0m \u001b[32m━━━━━━━━━━━━━━━━━━━━\u001b[0m\u001b[37m\u001b[0m \u001b[1m11s\u001b[0m 89ms/step - loss: 0.7029 - sparse_categorical_crossentropy: 0.6411 - val_loss: 0.6850 - val_sparse_categorical_crossentropy: 0.6244\n",
      "Epoch 7/15\n",
      "\u001b[1m125/125\u001b[0m \u001b[32m━━━━━━━━━━━━━━━━━━━━\u001b[0m\u001b[37m\u001b[0m \u001b[1m21s\u001b[0m 90ms/step - loss: 0.7034 - sparse_categorical_crossentropy: 0.6418 - val_loss: 0.6825 - val_sparse_categorical_crossentropy: 0.6223\n",
      "Epoch 8/15\n",
      "\u001b[1m125/125\u001b[0m \u001b[32m━━━━━━━━━━━━━━━━━━━━\u001b[0m\u001b[37m\u001b[0m \u001b[1m12s\u001b[0m 92ms/step - loss: 0.7032 - sparse_categorical_crossentropy: 0.6419 - val_loss: 0.6851 - val_sparse_categorical_crossentropy: 0.6247\n",
      "Epoch 9/15\n",
      "\u001b[1m125/125\u001b[0m \u001b[32m━━━━━━━━━━━━━━━━━━━━\u001b[0m\u001b[37m\u001b[0m \u001b[1m12s\u001b[0m 95ms/step - loss: 0.7047 - sparse_categorical_crossentropy: 0.6434 - val_loss: 0.6828 - val_sparse_categorical_crossentropy: 0.6228\n",
      "Epoch 10/15\n",
      "\u001b[1m125/125\u001b[0m \u001b[32m━━━━━━━━━━━━━━━━━━━━\u001b[0m\u001b[37m\u001b[0m \u001b[1m12s\u001b[0m 98ms/step - loss: 0.7044 - sparse_categorical_crossentropy: 0.6433 - val_loss: 0.6870 - val_sparse_categorical_crossentropy: 0.6268\n",
      "Epoch 11/15\n",
      "\u001b[1m125/125\u001b[0m \u001b[32m━━━━━━━━━━━━━━━━━━━━\u001b[0m\u001b[37m\u001b[0m \u001b[1m12s\u001b[0m 92ms/step - loss: 0.7090 - sparse_categorical_crossentropy: 0.6479 - val_loss: 0.6820 - val_sparse_categorical_crossentropy: 0.6222\n",
      "Epoch 12/15\n",
      "\u001b[1m125/125\u001b[0m \u001b[32m━━━━━━━━━━━━━━━━━━━━\u001b[0m\u001b[37m\u001b[0m \u001b[1m12s\u001b[0m 94ms/step - loss: 0.7077 - sparse_categorical_crossentropy: 0.6469 - val_loss: 0.6851 - val_sparse_categorical_crossentropy: 0.6250\n",
      "Epoch 13/15\n",
      "\u001b[1m125/125\u001b[0m \u001b[32m━━━━━━━━━━━━━━━━━━━━\u001b[0m\u001b[37m\u001b[0m \u001b[1m12s\u001b[0m 94ms/step - loss: 0.7038 - sparse_categorical_crossentropy: 0.6428 - val_loss: 0.6847 - val_sparse_categorical_crossentropy: 0.6251\n",
      "Epoch 14/15\n",
      "\u001b[1m125/125\u001b[0m \u001b[32m━━━━━━━━━━━━━━━━━━━━\u001b[0m\u001b[37m\u001b[0m \u001b[1m21s\u001b[0m 94ms/step - loss: 0.7068 - sparse_categorical_crossentropy: 0.6462 - val_loss: 0.6852 - val_sparse_categorical_crossentropy: 0.6257\n",
      "Epoch 15/15\n",
      "\u001b[1m125/125\u001b[0m \u001b[32m━━━━━━━━━━━━━━━━━━━━\u001b[0m\u001b[37m\u001b[0m \u001b[1m21s\u001b[0m 96ms/step - loss: 0.7129 - sparse_categorical_crossentropy: 0.6524 - val_loss: 0.6816 - val_sparse_categorical_crossentropy: 0.6222\n",
      "\u001b[1m34/34\u001b[0m \u001b[32m━━━━━━━━━━━━━━━━━━━━\u001b[0m\u001b[37m\u001b[0m \u001b[1m1s\u001b[0m 30ms/step - loss: 0.6850 - sparse_categorical_crossentropy: 0.6247\n",
      "Test metric: 0.6222424507141113\n",
      "\u001b[1m16/16\u001b[0m \u001b[32m━━━━━━━━━━━━━━━━━━━━\u001b[0m\u001b[37m\u001b[0m \u001b[1m1s\u001b[0m 41ms/step\n"
     ]
    }
   ],
   "source": [
    "model = keras.Sequential([\n",
    "    keras.layers.Conv2D(64, (3, 3), activation='relu', input_shape=(32, 32, 3)),\n",
    "    keras.layers.MaxPooling2D((2, 2)),\n",
    "    keras.layers.Dropout(0.5),\n",
    "    # keras.layers.BatchNormalization(),\n",
    "\n",
    "    keras.layers.Conv2D(128, (3, 3), activation='relu'),\n",
    "    keras.layers.MaxPooling2D((2, 2)),\n",
    "    keras.layers.Dropout(0.5),\n",
    "    # keras.layers.BatchNormalization(),\n",
    "\n",
    "    keras.layers.Conv2D(256, (3, 3), activation='relu'),\n",
    "    keras.layers.MaxPooling2D((2, 2)),\n",
    "    keras.layers.Dropout(0.5),\n",
    "    # keras.layers.BatchNormalization(),\n",
    "\n",
    "    keras.layers.Flatten(),\n",
    "    keras.layers.Dense(512, \n",
    "                        kernel_regularizer=keras.regularizers.L1L2(l1=0.001, l2=0.0001),\n",
    "                        bias_regularizer=keras.regularizers.L2(0.001),\n",
    "                        activity_regularizer=keras.regularizers.L2(0.001),\n",
    "                        activation='relu'),\n",
    "    keras.layers.Dense(256, \n",
    "                        # kernel_regularizer=keras.regularizers.L1L2(l1=0.1, l2=0.1),\n",
    "                        # bias_regularizer=keras.regularizers.L2(0.1),\n",
    "                        # activity_regularizer=keras.regularizers.L2(0.1),\n",
    "                        activation='relu'),\n",
    "    keras.layers.Dense(2, activation='softmax')\n",
    "])\n",
    "\n",
    "model.compile(optimizer=tf.keras.optimizers.Adam(learning_rate=0.001),\n",
    "              loss='sparse_categorical_crossentropy',\n",
    "              metrics=['sparse_categorical_crossentropy'])\n",
    "\n",
    "history = model.fit(train_img_np, train_label_np, epochs=15, validation_data=(test_img_np, test_label_np))\n",
    "\n",
    "test_loss, test_acc = model.evaluate(test_img_np, test_label_np)\n",
    "print('Test metric:', test_acc)\n",
    "\n",
    "predictions = model.predict(ttt_img)"
   ]
  },
  {
   "cell_type": "code",
   "execution_count": 78,
   "metadata": {},
   "outputs": [
    {
     "data": {
      "text/plain": [
       "<matplotlib.legend.Legend at 0x1a4e4809f10>"
      ]
     },
     "execution_count": 78,
     "metadata": {},
     "output_type": "execute_result"
    },
    {
     "data": {
      "image/png": "[encoded data removed]",
      "text/plain": [
       "<Figure size 640x480 with 1 Axes>"
      ]
     },
     "metadata": {},
     "output_type": "display_data"
    }
   ],
   "source": [
    "import matplotlib.pyplot as plt\n",
    "plt.plot(history.history['sparse_categorical_crossentropy'], label='sparse_categorical_crossentropy')\n",
    "plt.plot(history.history['val_sparse_categorical_crossentropy'], label = 'val_sparse_categorical_crossentropy')\n",
    "plt.xlabel('Epoch')\n",
    "plt.ylabel('sparse_categorical_crossentropy')\n",
    "plt.ylim([0, 0.7])\n",
    "plt.legend(loc='lower right')"
   ]
  },
  {
   "cell_type": "code",
   "execution_count": null,
   "metadata": {},
   "outputs": [],
   "source": [
    "num = 6\n",
    "\n",
    "iap.my_output_processing(result_test_df, predictions, num)"
   ]
  },
  {
   "cell_type": "markdown",
   "metadata": {},
   "source": [
    "1. Другая функция активации\n",
    "2. Другой размер батча\n",
    "3. BatchNormalisation в конце только\n",
    "4. Уменьшение сложности\n",
    "5. Использование предобученных моделей\n",
    "6. Оптимизаторы и изменение скорости обучения"
   ]
  }
 ],
 "metadata": {
  "kernelspec": {
   "display_name": ".venv",
   "language": "python",
   "name": "python3"
  },
  "language_info": {
   "codemirror_mode": {
    "name": "ipython",
    "version": 3
   },
   "file_extension": ".py",
   "mimetype": "text/x-python",
   "name": "python",
   "nbconvert_exporter": "python",
   "pygments_lexer": "ipython3",
   "version": "3.9.9"
  }
 },
 "nbformat": 4,
 "nbformat_minor": 2
}
