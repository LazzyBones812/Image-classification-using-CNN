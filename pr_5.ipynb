{
 "cells": [
  {
   "cell_type": "code",
   "execution_count": 55,
   "metadata": {},
   "outputs": [
    {
     "data": {
      "text/plain": [
       "(                                                  id  \\\n",
       " 0  -how-important-people-from-the-past-really-loo...   \n",
       " 1  -s-fluffy-fur-and-round-features-immediately-m...   \n",
       " 2  -using-generative-ai-technology-landscape-patt...   \n",
       " 3  -yellow-kimono-with-a-golden-crown-and-a-very-...   \n",
       " 4  .amazonaws.com2Fpublic2Fimages2Ff89de3bb-279b-...   \n",
       " \n",
       "                                              val_arr  label  \n",
       " 0  [[[0.19607843137254902, 0.17254901960784313, 0...    1.0  \n",
       " 1  [[[0.11372549019607843, 0.1450980392156863, 0....    1.0  \n",
       " 2  [[[0.023529411764705882, 0.0196078431372549, 0...    1.0  \n",
       " 3  [[[0.0196078431372549, 0.03137254901960784, 0....    1.0  \n",
       " 4  [[[0.2, 0.34901960784313724, 0.396078431372549...    1.0  ,\n",
       "                                                   id  \\\n",
       " 0  -man-sits-with-a-woman-on-her-phone-at-a-table...   \n",
       " 1  -Skills-Promo-A-Total-Artist-All-of-North-West...   \n",
       " 2  .amazonaws.com2Fpublic2Fimages2Fcb32a00a-bf52-...   \n",
       " 3                                           0182.png   \n",
       " 4      02-still-for-america-room-loop-superJumbo.jpg   \n",
       " \n",
       "                                              val_arr  label  \n",
       " 0  [[[0.6862745098039216, 0.6392156862745098, 0.6...    0.0  \n",
       " 1  [[[0.6980392156862745, 0.6235294117647059, 0.5...    0.0  \n",
       " 2  [[[0.023529411764705882, 0.3137254901960784, 0...    0.0  \n",
       " 3  [[0.20784313725490197, 0.03137254901960784, 0....    0.0  \n",
       " 4  [[[0.788235294117647, 0.796078431372549, 0.835...    0.0  )"
      ]
     },
     "execution_count": 55,
     "metadata": {},
     "output_type": "execute_result"
    }
   ],
   "source": [
    "import numpy as np\n",
    "from pathlib import Path\n",
    "import pandas as pd\n",
    "from PIL import Image\n",
    "\n",
    "p_fake = Path('data/images_new/fake')\n",
    "list_name_img_fake = []\n",
    "list_var_arr_fake = []\n",
    "for x in p_fake.glob('*'):\n",
    "    x_rprefix = str(x).removeprefix('data\\\\images_new\\\\fake\\\\')\n",
    "    list_name_img_fake.append(x_rprefix)\n",
    "    img = Image.open(x)\n",
    "    img_resize = img.resize((32, 32))\n",
    "    list_var_arr_fake.append(np.array(img_resize) / 255.0)\n",
    "list_fake_img_df = pd.DataFrame({'id': list_name_img_fake, 'val_arr': list_var_arr_fake, 'label': 1.0})\n",
    "\n",
    "p_real = Path('data/images_new/real')\n",
    "list_name_img_real = []\n",
    "list_var_arr_real = []\n",
    "for x in p_real.glob('*'):\n",
    "    x_rprefix = str(x).removeprefix('data\\\\images_new\\\\real\\\\')\n",
    "    list_name_img_real.append(x_rprefix)\n",
    "    img = Image.open(x)\n",
    "    img_resize = img.resize((32, 32))\n",
    "    list_var_arr_real.append(np.array(img_resize) / 255.0)\n",
    "list_real_img_df = pd.DataFrame({'id': list_name_img_real, 'val_arr': list_var_arr_real, 'label': 0.0})\n",
    "\n",
    "list_fake_img_df.head(), list_real_img_df.head()"
   ]
  },
  {
   "cell_type": "code",
   "execution_count": 56,
   "metadata": {},
   "outputs": [
    {
     "data": {
      "text/plain": [
       "(3016, 3)"
      ]
     },
     "execution_count": 56,
     "metadata": {},
     "output_type": "execute_result"
    }
   ],
   "source": [
    "list_img_df = pd.concat([list_fake_img_df, list_real_img_df])\n",
    "list_img_df = list_img_df.sample(frac=1).reset_index(drop=True)\n",
    "list_img_df.shape"
   ]
  },
  {
   "cell_type": "code",
   "execution_count": 57,
   "metadata": {},
   "outputs": [],
   "source": [
    "import input_and_processing as iap\n",
    "num_train = 2500\n",
    "\n",
    "all_images = list_img_df['val_arr'].to_numpy()\n",
    "train_images = all_images[:num_train]\n",
    "test_images = all_images[num_train:]\n",
    "\n",
    "all_labels = list_img_df['label'].to_numpy()\n",
    "train_labels = all_labels[:num_train]\n",
    "test_labels = all_labels[num_train:]\n",
    "\n",
    "(_, _), (_, _), t_img, _ = iap.my_input_and_processing()"
   ]
  },
  {
   "cell_type": "code",
   "execution_count": 58,
   "metadata": {},
   "outputs": [
    {
     "data": {
      "text/plain": [
       "(32, 32, 3)"
      ]
     },
     "execution_count": 58,
     "metadata": {},
     "output_type": "execute_result"
    }
   ],
   "source": [
    "train_images[212].shape"
   ]
  },
  {
   "cell_type": "code",
   "execution_count": 59,
   "metadata": {},
   "outputs": [],
   "source": [
    "train_img = np.zeros([train_images.shape[0], train_images[0].shape[0], train_images[0].shape[1], train_images[0].shape[2] + 1], dtype=np.float32)\n",
    "\n",
    "for i in range(train_images.shape[0]):\n",
    "    if train_images[i].shape == (32, 32):\n",
    "        train_img[i, :, :, 0] = train_images[i]\n",
    "    elif train_images[i].shape[2] == 3:\n",
    "        train_img[i, :, :, :3] = train_images[i]\n",
    "    else:\n",
    "        train_img[i, :, :, :4] = train_images[i]"
   ]
  },
  {
   "cell_type": "code",
   "execution_count": 60,
   "metadata": {},
   "outputs": [],
   "source": [
    "test_img = np.zeros([test_images.shape[0], test_images[0].shape[0], test_images[0].shape[1], test_images[0].shape[2] + 1], dtype=np.float32)\n",
    "\n",
    "for i in range(test_images.shape[0]):\n",
    "    if test_images[i].shape == (32, 32):\n",
    "        test_img[i, :, :, 0] = test_images[i]\n",
    "    elif test_images[i].shape[2] == 3:\n",
    "        test_img[i, :, :, :3] = test_images[i]\n",
    "    else:\n",
    "        test_img[i, :, :, :4] = test_images[i]"
   ]
  },
  {
   "cell_type": "markdown",
   "metadata": {},
   "source": [
    "Обучение модели CNN"
   ]
  },
  {
   "cell_type": "code",
   "execution_count": 77,
   "metadata": {},
   "outputs": [
    {
     "name": "stderr",
     "output_type": "stream",
     "text": [
      "c:\\mArt\\dataScience\\kaggle\\attempt_at_writing\\.venv\\lib\\site-packages\\keras\\src\\layers\\convolutional\\base_conv.py:99: UserWarning: Do not pass an `input_shape`/`input_dim` argument to a layer. When using Sequential models, prefer using an `Input(shape)` object as the first layer in the model instead.\n",
      "  super().__init__(\n"
     ]
    },
    {
     "name": "stdout",
     "output_type": "stream",
     "text": [
      "Epoch 1/50\n",
      "\u001b[1m79/79\u001b[0m \u001b[32m━━━━━━━━━━━━━━━━━━━━\u001b[0m\u001b[37m\u001b[0m \u001b[1m4s\u001b[0m 18ms/step - loss: 0.7083 - sparse_categorical_crossentropy: 0.7083 - val_loss: 0.6874 - val_sparse_categorical_crossentropy: 0.6869\n",
      "Epoch 2/50\n",
      "\u001b[1m79/79\u001b[0m \u001b[32m━━━━━━━━━━━━━━━━━━━━\u001b[0m\u001b[37m\u001b[0m \u001b[1m1s\u001b[0m 16ms/step - loss: 0.6885 - sparse_categorical_crossentropy: 0.6886 - val_loss: 0.6818 - val_sparse_categorical_crossentropy: 0.6817\n",
      "Epoch 3/50\n",
      "\u001b[1m79/79\u001b[0m \u001b[32m━━━━━━━━━━━━━━━━━━━━\u001b[0m\u001b[37m\u001b[0m \u001b[1m1s\u001b[0m 17ms/step - loss: 0.6840 - sparse_categorical_crossentropy: 0.6839 - val_loss: 0.6834 - val_sparse_categorical_crossentropy: 0.6827\n",
      "Epoch 4/50\n",
      "\u001b[1m79/79\u001b[0m \u001b[32m━━━━━━━━━━━━━━━━━━━━\u001b[0m\u001b[37m\u001b[0m \u001b[1m1s\u001b[0m 16ms/step - loss: 0.6782 - sparse_categorical_crossentropy: 0.6782 - val_loss: 0.6844 - val_sparse_categorical_crossentropy: 0.6848\n",
      "Epoch 5/50\n",
      "\u001b[1m79/79\u001b[0m \u001b[32m━━━━━━━━━━━━━━━━━━━━\u001b[0m\u001b[37m\u001b[0m \u001b[1m1s\u001b[0m 16ms/step - loss: 0.6687 - sparse_categorical_crossentropy: 0.6687 - val_loss: 0.6741 - val_sparse_categorical_crossentropy: 0.6736\n",
      "Epoch 6/50\n",
      "\u001b[1m79/79\u001b[0m \u001b[32m━━━━━━━━━━━━━━━━━━━━\u001b[0m\u001b[37m\u001b[0m \u001b[1m1s\u001b[0m 16ms/step - loss: 0.6779 - sparse_categorical_crossentropy: 0.6779 - val_loss: 0.6871 - val_sparse_categorical_crossentropy: 0.6858\n",
      "Epoch 7/50\n",
      "\u001b[1m79/79\u001b[0m \u001b[32m━━━━━━━━━━━━━━━━━━━━\u001b[0m\u001b[37m\u001b[0m \u001b[1m1s\u001b[0m 16ms/step - loss: 0.6660 - sparse_categorical_crossentropy: 0.6660 - val_loss: 0.6689 - val_sparse_categorical_crossentropy: 0.6654\n",
      "Epoch 8/50\n",
      "\u001b[1m79/79\u001b[0m \u001b[32m━━━━━━━━━━━━━━━━━━━━\u001b[0m\u001b[37m\u001b[0m \u001b[1m1s\u001b[0m 16ms/step - loss: 0.6579 - sparse_categorical_crossentropy: 0.6579 - val_loss: 0.6662 - val_sparse_categorical_crossentropy: 0.6652\n",
      "Epoch 9/50\n",
      "\u001b[1m79/79\u001b[0m \u001b[32m━━━━━━━━━━━━━━━━━━━━\u001b[0m\u001b[37m\u001b[0m \u001b[1m1s\u001b[0m 15ms/step - loss: 0.6417 - sparse_categorical_crossentropy: 0.6417 - val_loss: 0.6744 - val_sparse_categorical_crossentropy: 0.6738\n",
      "Epoch 10/50\n",
      "\u001b[1m79/79\u001b[0m \u001b[32m━━━━━━━━━━━━━━━━━━━━\u001b[0m\u001b[37m\u001b[0m \u001b[1m2s\u001b[0m 21ms/step - loss: 0.6485 - sparse_categorical_crossentropy: 0.6486 - val_loss: 0.6564 - val_sparse_categorical_crossentropy: 0.6580\n",
      "Epoch 11/50\n",
      "\u001b[1m79/79\u001b[0m \u001b[32m━━━━━━━━━━━━━━━━━━━━\u001b[0m\u001b[37m\u001b[0m \u001b[1m1s\u001b[0m 16ms/step - loss: 0.6266 - sparse_categorical_crossentropy: 0.6266 - val_loss: 0.6556 - val_sparse_categorical_crossentropy: 0.6572\n",
      "Epoch 12/50\n",
      "\u001b[1m79/79\u001b[0m \u001b[32m━━━━━━━━━━━━━━━━━━━━\u001b[0m\u001b[37m\u001b[0m \u001b[1m1s\u001b[0m 17ms/step - loss: 0.6247 - sparse_categorical_crossentropy: 0.6246 - val_loss: 0.6548 - val_sparse_categorical_crossentropy: 0.6542\n",
      "Epoch 13/50\n",
      "\u001b[1m79/79\u001b[0m \u001b[32m━━━━━━━━━━━━━━━━━━━━\u001b[0m\u001b[37m\u001b[0m \u001b[1m2s\u001b[0m 18ms/step - loss: 0.6302 - sparse_categorical_crossentropy: 0.6301 - val_loss: 0.6621 - val_sparse_categorical_crossentropy: 0.6669\n",
      "Epoch 14/50\n",
      "\u001b[1m79/79\u001b[0m \u001b[32m━━━━━━━━━━━━━━━━━━━━\u001b[0m\u001b[37m\u001b[0m \u001b[1m3s\u001b[0m 26ms/step - loss: 0.6145 - sparse_categorical_crossentropy: 0.6145 - val_loss: 0.6588 - val_sparse_categorical_crossentropy: 0.6589\n",
      "Epoch 15/50\n",
      "\u001b[1m79/79\u001b[0m \u001b[32m━━━━━━━━━━━━━━━━━━━━\u001b[0m\u001b[37m\u001b[0m \u001b[1m2s\u001b[0m 19ms/step - loss: 0.5895 - sparse_categorical_crossentropy: 0.5894 - val_loss: 0.6540 - val_sparse_categorical_crossentropy: 0.6604\n",
      "Epoch 16/50\n",
      "\u001b[1m79/79\u001b[0m \u001b[32m━━━━━━━━━━━━━━━━━━━━\u001b[0m\u001b[37m\u001b[0m \u001b[1m1s\u001b[0m 16ms/step - loss: 0.5965 - sparse_categorical_crossentropy: 0.5965 - val_loss: 0.6741 - val_sparse_categorical_crossentropy: 0.6753\n",
      "Epoch 17/50\n",
      "\u001b[1m79/79\u001b[0m \u001b[32m━━━━━━━━━━━━━━━━━━━━\u001b[0m\u001b[37m\u001b[0m \u001b[1m4s\u001b[0m 32ms/step - loss: 0.5923 - sparse_categorical_crossentropy: 0.5924 - val_loss: 0.6538 - val_sparse_categorical_crossentropy: 0.6597\n",
      "Epoch 18/50\n",
      "\u001b[1m79/79\u001b[0m \u001b[32m━━━━━━━━━━━━━━━━━━━━\u001b[0m\u001b[37m\u001b[0m \u001b[1m2s\u001b[0m 29ms/step - loss: 0.6045 - sparse_categorical_crossentropy: 0.6045 - val_loss: 0.6535 - val_sparse_categorical_crossentropy: 0.6604\n",
      "Epoch 19/50\n",
      "\u001b[1m79/79\u001b[0m \u001b[32m━━━━━━━━━━━━━━━━━━━━\u001b[0m\u001b[37m\u001b[0m \u001b[1m2s\u001b[0m 23ms/step - loss: 0.5667 - sparse_categorical_crossentropy: 0.5668 - val_loss: 0.6777 - val_sparse_categorical_crossentropy: 0.6793\n",
      "Epoch 20/50\n",
      "\u001b[1m79/79\u001b[0m \u001b[32m━━━━━━━━━━━━━━━━━━━━\u001b[0m\u001b[37m\u001b[0m \u001b[1m4s\u001b[0m 45ms/step - loss: 0.5541 - sparse_categorical_crossentropy: 0.5542 - val_loss: 0.6665 - val_sparse_categorical_crossentropy: 0.6746\n",
      "Epoch 21/50\n",
      "\u001b[1m79/79\u001b[0m \u001b[32m━━━━━━━━━━━━━━━━━━━━\u001b[0m\u001b[37m\u001b[0m \u001b[1m3s\u001b[0m 32ms/step - loss: 0.5557 - sparse_categorical_crossentropy: 0.5557 - val_loss: 0.6675 - val_sparse_categorical_crossentropy: 0.6710\n",
      "Epoch 22/50\n",
      "\u001b[1m79/79\u001b[0m \u001b[32m━━━━━━━━━━━━━━━━━━━━\u001b[0m\u001b[37m\u001b[0m \u001b[1m2s\u001b[0m 28ms/step - loss: 0.5256 - sparse_categorical_crossentropy: 0.5256 - val_loss: 0.6613 - val_sparse_categorical_crossentropy: 0.6680\n",
      "Epoch 23/50\n",
      "\u001b[1m79/79\u001b[0m \u001b[32m━━━━━━━━━━━━━━━━━━━━\u001b[0m\u001b[37m\u001b[0m \u001b[1m3s\u001b[0m 27ms/step - loss: 0.5201 - sparse_categorical_crossentropy: 0.5200 - val_loss: 0.6820 - val_sparse_categorical_crossentropy: 0.6833\n",
      "Epoch 24/50\n",
      "\u001b[1m79/79\u001b[0m \u001b[32m━━━━━━━━━━━━━━━━━━━━\u001b[0m\u001b[37m\u001b[0m \u001b[1m2s\u001b[0m 26ms/step - loss: 0.5205 - sparse_categorical_crossentropy: 0.5205 - val_loss: 0.6610 - val_sparse_categorical_crossentropy: 0.6696\n",
      "Epoch 25/50\n",
      "\u001b[1m79/79\u001b[0m \u001b[32m━━━━━━━━━━━━━━━━━━━━\u001b[0m\u001b[37m\u001b[0m \u001b[1m3s\u001b[0m 28ms/step - loss: 0.5034 - sparse_categorical_crossentropy: 0.5034 - val_loss: 0.7181 - val_sparse_categorical_crossentropy: 0.7190\n",
      "Epoch 26/50\n",
      "\u001b[1m79/79\u001b[0m \u001b[32m━━━━━━━━━━━━━━━━━━━━\u001b[0m\u001b[37m\u001b[0m \u001b[1m2s\u001b[0m 29ms/step - loss: 0.5138 - sparse_categorical_crossentropy: 0.5136 - val_loss: 0.6597 - val_sparse_categorical_crossentropy: 0.6679\n",
      "Epoch 27/50\n",
      "\u001b[1m79/79\u001b[0m \u001b[32m━━━━━━━━━━━━━━━━━━━━\u001b[0m\u001b[37m\u001b[0m \u001b[1m2s\u001b[0m 23ms/step - loss: 0.4909 - sparse_categorical_crossentropy: 0.4909 - val_loss: 0.6780 - val_sparse_categorical_crossentropy: 0.6870\n",
      "Epoch 28/50\n",
      "\u001b[1m79/79\u001b[0m \u001b[32m━━━━━━━━━━━━━━━━━━━━\u001b[0m\u001b[37m\u001b[0m \u001b[1m2s\u001b[0m 19ms/step - loss: 0.4630 - sparse_categorical_crossentropy: 0.4631 - val_loss: 0.6750 - val_sparse_categorical_crossentropy: 0.6836\n",
      "Epoch 29/50\n",
      "\u001b[1m79/79\u001b[0m \u001b[32m━━━━━━━━━━━━━━━━━━━━\u001b[0m\u001b[37m\u001b[0m \u001b[1m1s\u001b[0m 17ms/step - loss: 0.4584 - sparse_categorical_crossentropy: 0.4584 - val_loss: 0.6814 - val_sparse_categorical_crossentropy: 0.6882\n",
      "Epoch 30/50\n",
      "\u001b[1m79/79\u001b[0m \u001b[32m━━━━━━━━━━━━━━━━━━━━\u001b[0m\u001b[37m\u001b[0m \u001b[1m1s\u001b[0m 17ms/step - loss: 0.4472 - sparse_categorical_crossentropy: 0.4472 - val_loss: 0.6843 - val_sparse_categorical_crossentropy: 0.6922\n",
      "Epoch 31/50\n",
      "\u001b[1m79/79\u001b[0m \u001b[32m━━━━━━━━━━━━━━━━━━━━\u001b[0m\u001b[37m\u001b[0m \u001b[1m3s\u001b[0m 20ms/step - loss: 0.4504 - sparse_categorical_crossentropy: 0.4504 - val_loss: 0.6796 - val_sparse_categorical_crossentropy: 0.6868\n",
      "Epoch 32/50\n",
      "\u001b[1m79/79\u001b[0m \u001b[32m━━━━━━━━━━━━━━━━━━━━\u001b[0m\u001b[37m\u001b[0m \u001b[1m1s\u001b[0m 16ms/step - loss: 0.4449 - sparse_categorical_crossentropy: 0.4450 - val_loss: 0.6617 - val_sparse_categorical_crossentropy: 0.6721\n",
      "Epoch 33/50\n",
      "\u001b[1m79/79\u001b[0m \u001b[32m━━━━━━━━━━━━━━━━━━━━\u001b[0m\u001b[37m\u001b[0m \u001b[1m3s\u001b[0m 18ms/step - loss: 0.4296 - sparse_categorical_crossentropy: 0.4297 - val_loss: 0.7021 - val_sparse_categorical_crossentropy: 0.7212\n",
      "Epoch 34/50\n",
      "\u001b[1m79/79\u001b[0m \u001b[32m━━━━━━━━━━━━━━━━━━━━\u001b[0m\u001b[37m\u001b[0m \u001b[1m3s\u001b[0m 19ms/step - loss: 0.4131 - sparse_categorical_crossentropy: 0.4130 - val_loss: 0.6932 - val_sparse_categorical_crossentropy: 0.7131\n",
      "Epoch 35/50\n",
      "\u001b[1m79/79\u001b[0m \u001b[32m━━━━━━━━━━━━━━━━━━━━\u001b[0m\u001b[37m\u001b[0m \u001b[1m2s\u001b[0m 16ms/step - loss: 0.3951 - sparse_categorical_crossentropy: 0.3951 - val_loss: 0.6911 - val_sparse_categorical_crossentropy: 0.7099\n",
      "Epoch 36/50\n",
      "\u001b[1m79/79\u001b[0m \u001b[32m━━━━━━━━━━━━━━━━━━━━\u001b[0m\u001b[37m\u001b[0m \u001b[1m1s\u001b[0m 16ms/step - loss: 0.4062 - sparse_categorical_crossentropy: 0.4062 - val_loss: 0.7038 - val_sparse_categorical_crossentropy: 0.7268\n",
      "Epoch 37/50\n",
      "\u001b[1m79/79\u001b[0m \u001b[32m━━━━━━━━━━━━━━━━━━━━\u001b[0m\u001b[37m\u001b[0m \u001b[1m1s\u001b[0m 17ms/step - loss: 0.3760 - sparse_categorical_crossentropy: 0.3760 - val_loss: 0.7279 - val_sparse_categorical_crossentropy: 0.7501\n",
      "Epoch 38/50\n",
      "\u001b[1m79/79\u001b[0m \u001b[32m━━━━━━━━━━━━━━━━━━━━\u001b[0m\u001b[37m\u001b[0m \u001b[1m1s\u001b[0m 18ms/step - loss: 0.3868 - sparse_categorical_crossentropy: 0.3868 - val_loss: 0.6980 - val_sparse_categorical_crossentropy: 0.7155\n",
      "Epoch 39/50\n",
      "\u001b[1m79/79\u001b[0m \u001b[32m━━━━━━━━━━━━━━━━━━━━\u001b[0m\u001b[37m\u001b[0m \u001b[1m3s\u001b[0m 17ms/step - loss: 0.3550 - sparse_categorical_crossentropy: 0.3550 - val_loss: 0.7024 - val_sparse_categorical_crossentropy: 0.7240\n",
      "Epoch 40/50\n",
      "\u001b[1m79/79\u001b[0m \u001b[32m━━━━━━━━━━━━━━━━━━━━\u001b[0m\u001b[37m\u001b[0m \u001b[1m3s\u001b[0m 16ms/step - loss: 0.3689 - sparse_categorical_crossentropy: 0.3689 - val_loss: 0.7380 - val_sparse_categorical_crossentropy: 0.7595\n",
      "Epoch 41/50\n",
      "\u001b[1m79/79\u001b[0m \u001b[32m━━━━━━━━━━━━━━━━━━━━\u001b[0m\u001b[37m\u001b[0m \u001b[1m1s\u001b[0m 16ms/step - loss: 0.3599 - sparse_categorical_crossentropy: 0.3600 - val_loss: 0.6934 - val_sparse_categorical_crossentropy: 0.7142\n",
      "Epoch 42/50\n",
      "\u001b[1m79/79\u001b[0m \u001b[32m━━━━━━━━━━━━━━━━━━━━\u001b[0m\u001b[37m\u001b[0m \u001b[1m3s\u001b[0m 16ms/step - loss: 0.3574 - sparse_categorical_crossentropy: 0.3574 - val_loss: 0.7490 - val_sparse_categorical_crossentropy: 0.7758\n",
      "Epoch 43/50\n",
      "\u001b[1m79/79\u001b[0m \u001b[32m━━━━━━━━━━━━━━━━━━━━\u001b[0m\u001b[37m\u001b[0m \u001b[1m1s\u001b[0m 16ms/step - loss: 0.3391 - sparse_categorical_crossentropy: 0.3391 - val_loss: 0.7219 - val_sparse_categorical_crossentropy: 0.7463\n",
      "Epoch 44/50\n",
      "\u001b[1m79/79\u001b[0m \u001b[32m━━━━━━━━━━━━━━━━━━━━\u001b[0m\u001b[37m\u001b[0m \u001b[1m1s\u001b[0m 15ms/step - loss: 0.3206 - sparse_categorical_crossentropy: 0.3206 - val_loss: 0.7291 - val_sparse_categorical_crossentropy: 0.7460\n",
      "Epoch 45/50\n",
      "\u001b[1m79/79\u001b[0m \u001b[32m━━━━━━━━━━━━━━━━━━━━\u001b[0m\u001b[37m\u001b[0m \u001b[1m1s\u001b[0m 16ms/step - loss: 0.3308 - sparse_categorical_crossentropy: 0.3308 - val_loss: 0.7428 - val_sparse_categorical_crossentropy: 0.7730\n",
      "Epoch 46/50\n",
      "\u001b[1m79/79\u001b[0m \u001b[32m━━━━━━━━━━━━━━━━━━━━\u001b[0m\u001b[37m\u001b[0m \u001b[1m1s\u001b[0m 16ms/step - loss: 0.2950 - sparse_categorical_crossentropy: 0.2950 - val_loss: 0.7400 - val_sparse_categorical_crossentropy: 0.7675\n",
      "Epoch 47/50\n",
      "\u001b[1m79/79\u001b[0m \u001b[32m━━━━━━━━━━━━━━━━━━━━\u001b[0m\u001b[37m\u001b[0m \u001b[1m2s\u001b[0m 19ms/step - loss: 0.3083 - sparse_categorical_crossentropy: 0.3082 - val_loss: 0.7474 - val_sparse_categorical_crossentropy: 0.7736\n",
      "Epoch 48/50\n",
      "\u001b[1m79/79\u001b[0m \u001b[32m━━━━━━━━━━━━━━━━━━━━\u001b[0m\u001b[37m\u001b[0m \u001b[1m1s\u001b[0m 16ms/step - loss: 0.2818 - sparse_categorical_crossentropy: 0.2819 - val_loss: 0.7683 - val_sparse_categorical_crossentropy: 0.7933\n",
      "Epoch 49/50\n",
      "\u001b[1m79/79\u001b[0m \u001b[32m━━━━━━━━━━━━━━━━━━━━\u001b[0m\u001b[37m\u001b[0m \u001b[1m1s\u001b[0m 16ms/step - loss: 0.3174 - sparse_categorical_crossentropy: 0.3174 - val_loss: 0.7226 - val_sparse_categorical_crossentropy: 0.7498\n",
      "Epoch 50/50\n",
      "\u001b[1m79/79\u001b[0m \u001b[32m━━━━━━━━━━━━━━━━━━━━\u001b[0m\u001b[37m\u001b[0m \u001b[1m1s\u001b[0m 17ms/step - loss: 0.2713 - sparse_categorical_crossentropy: 0.2713 - val_loss: 0.7759 - val_sparse_categorical_crossentropy: 0.8010\n",
      "\u001b[1m17/17\u001b[0m \u001b[32m━━━━━━━━━━━━━━━━━━━━\u001b[0m\u001b[37m\u001b[0m \u001b[1m0s\u001b[0m 7ms/step - loss: 0.7895 - sparse_categorical_crossentropy: 0.7922\n",
      "Test metric: 0.8009530305862427\n",
      "\u001b[1m16/16\u001b[0m \u001b[32m━━━━━━━━━━━━━━━━━━━━\u001b[0m\u001b[37m\u001b[0m \u001b[1m0s\u001b[0m 15ms/step\n"
     ]
    }
   ],
   "source": [
    "import tensorflow as tf\n",
    "from tensorflow import keras\n",
    "\n",
    "model = keras.Sequential([\n",
    "    keras.layers.Conv2D(16, (3, 3), activation='relu', input_shape=(32, 32, 4)),\n",
    "    keras.layers.MaxPooling2D((2, 2)),\n",
    "    # keras.layers.Dropout(0.5),\n",
    "    keras.layers.Conv2D(32, (3, 3), activation='relu'),\n",
    "    keras.layers.MaxPooling2D((2, 2)),\n",
    "    keras.layers.Dropout(0.5),\n",
    "    # keras.layers.Conv2D(64, (3, 3), activation='relu'),\n",
    "    # keras.layers.MaxPooling2D((2, 2)),\n",
    "    # keras.layers.Dropout(0.5),\n",
    "    keras.layers.Flatten(),\n",
    "    keras.layers.Dense(256, activation='relu'),\n",
    "    keras.layers.Dropout(0.5),\n",
    "    keras.layers.Dense(2, activation='softmax')\n",
    "])\n",
    "\n",
    "model.compile(optimizer='adam', \n",
    "              loss='sparse_categorical_crossentropy',\n",
    "              metrics=['sparse_categorical_crossentropy'])\n",
    "\n",
    "history = model.fit(train_img, train_labels, epochs=50, validation_data=(test_img, test_labels))\n",
    "\n",
    "test_loss, test_acc = model.evaluate(test_img, test_labels)\n",
    "print('Test metric:', test_acc)\n",
    "\n",
    "predictions = model.predict(t_img)"
   ]
  },
  {
   "cell_type": "code",
   "execution_count": 78,
   "metadata": {},
   "outputs": [
    {
     "data": {
      "text/plain": [
       "<matplotlib.legend.Legend at 0x247013e08e0>"
      ]
     },
     "execution_count": 78,
     "metadata": {},
     "output_type": "execute_result"
    },
    {
     "data": {
      "image/png": "[encoded data removed]",
      "text/plain": [
       "<Figure size 640x480 with 1 Axes>"
      ]
     },
     "metadata": {},
     "output_type": "display_data"
    }
   ],
   "source": [
    "import matplotlib.pyplot as plt\n",
    "plt.plot(history.history['sparse_categorical_crossentropy'], label='sparse_categorical_crossentropy')\n",
    "plt.plot(history.history['val_sparse_categorical_crossentropy'], label = 'val_sparse_categorical_crossentropy')\n",
    "plt.xlabel('Epoch')\n",
    "plt.ylabel('sparse_categorical_crossentropy')\n",
    "plt.ylim([0, 0.7])\n",
    "plt.legend(loc='lower right')"
   ]
  }
 ],
 "metadata": {
  "kernelspec": {
   "display_name": ".venv",
   "language": "python",
   "name": "python3"
  },
  "language_info": {
   "codemirror_mode": {
    "name": "ipython",
    "version": 3
   },
   "file_extension": ".py",
   "mimetype": "text/x-python",
   "name": "python",
   "nbconvert_exporter": "python",
   "pygments_lexer": "ipython3",
   "version": "3.9.9"
  }
 },
 "nbformat": 4,
 "nbformat_minor": 2
}
